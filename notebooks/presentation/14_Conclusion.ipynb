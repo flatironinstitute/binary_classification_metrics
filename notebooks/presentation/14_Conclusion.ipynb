{
 "cells": [
  {
   "cell_type": "markdown",
   "metadata": {},
   "source": [
    "<img src=\"bridge.jpg\" width=\"400\">\n",
    "\n",
    "# Conclusion\n",
    "\n",
    "## Jupyter widgets are great for exploring data in detail.\n",
    "\n",
    "## AUPR is great for \"google search\".\n",
    "\n",
    "## But AUPR is not really appropriate for system biology.\n",
    "\n",
    "## AUPR penalizes early misses too much and ignores late hits too much.\n",
    "\n",
    "## An early miss could be an error in the \"gold standard\", maybe the inference was right!\n",
    "\n",
    "## For many use cases you want to get many/nearly all hits early, not just a few at the front.\n",
    "\n",
    "# Also: Always remember Anscombe's quartet\n",
    "\n",
    "<img src=\"https://upload.wikimedia.org/wikipedia/commons/thumb/e/ec/Anscombe%27s_quartet_3.svg/1200px-Anscombe%27s_quartet_3.svg.png\">\n",
    "\n",
    "## Mean, variance, correlation, and regression statistics say those data sets are identical.\n",
    "\n",
    "## They are not.\n",
    "\n",
    "## Don't trust summary statistics -- look at the data in detail.\n",
    "\n",
    "### And if you don't know how to look at the data in detail -- let's build a widget to do it!\n"
   ]
  },
  {
   "cell_type": "code",
   "execution_count": null,
   "metadata": {},
   "outputs": [],
   "source": []
  }
 ],
 "metadata": {
  "kernelspec": {
   "display_name": "Python 3",
   "language": "python",
   "name": "python3"
  },
  "language_info": {
   "codemirror_mode": {
    "name": "ipython",
    "version": 3
   },
   "file_extension": ".py",
   "mimetype": "text/x-python",
   "name": "python",
   "nbconvert_exporter": "python",
   "pygments_lexer": "ipython3",
   "version": "3.6.8"
  }
 },
 "nbformat": 4,
 "nbformat_minor": 4
}
