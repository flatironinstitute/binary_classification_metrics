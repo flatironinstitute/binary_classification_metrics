{
 "cells": [
  {
   "cell_type": "markdown",
   "metadata": {},
   "source": [
    "<img src=\"https://memegenerator.net/img/instances/64082243.jpg\" width=\"200\">\n",
    "\n",
    "# Conclusion\n",
    "\n",
    "## AUPR is great for \"google search\"\n",
    "\n",
    "## But it's not really appropriate for system biology.\n",
    "\n",
    "## It penalizes early misses too much and ignores late hits too much.\n",
    "\n",
    "## An early miss could be an error in the \"gold standard\".\n",
    "\n",
    "## For many use cases you want to get many/nearly all hits early, not just a few at the front\n",
    "\n",
    "# Also: Always remember Anscombe's quartet\n",
    "\n",
    "<img src=\"https://upload.wikimedia.org/wikipedia/commons/thumb/e/ec/Anscombe%27s_quartet_3.svg/1200px-Anscombe%27s_quartet_3.svg.png\">\n",
    "\n",
    "## 5 Summary statistics say those data sets are identical.\n",
    "\n",
    "## They are not.\n",
    "\n",
    "## Don't trust summary statistics -- look at the data in detail.\n"
   ]
  },
  {
   "cell_type": "code",
   "execution_count": null,
   "metadata": {},
   "outputs": [],
   "source": []
  }
 ],
 "metadata": {
  "kernelspec": {
   "display_name": "Python 3",
   "language": "python",
   "name": "python3"
  },
  "language_info": {
   "codemirror_mode": {
    "name": "ipython",
    "version": 3
   },
   "file_extension": ".py",
   "mimetype": "text/x-python",
   "name": "python",
   "nbconvert_exporter": "python",
   "pygments_lexer": "ipython3",
   "version": "3.6.8"
  }
 },
 "nbformat": 4,
 "nbformat_minor": 4
}
