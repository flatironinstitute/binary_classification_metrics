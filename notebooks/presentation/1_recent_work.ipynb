{
 "cells": [
  {
   "cell_type": "markdown",
   "metadata": {},
   "source": [
    "<img src=\"https://image.shutterstock.com/image-vector/sisyphus-greek-myth-rolling-rock-260nw-1273889695.jpg\">\n",
    "\n",
    "# My recent work at Flatiron\n",
    "\n",
    "## Mainly related to using GPUs via WebGL for special purpose computations.\n",
    "\n",
    "- Talk at JupyterCon 2020\n",
    "- Lead to invited paper for *IEEE Computation in Science and Engineering*\n",
    "- Apparently they will be using my image for the cover (modified) soon.\n",
    "\n",
    "<img src=\"./torso.png\" width=\"800\">\n",
    "\n",
    "<a href=\"https://flatironinstitute.github.io/Fermi_surface_visualization/\">\n",
    "<h1>Related: Fermi surfaces with Manuel Zingl, Antoine Georges, and Liz Lovero (CCQ).</h1>\n",
    "</a>\n",
    "\n",
    "<a href=\"https://aaronwatters.github.io/visualization_prototypes/magnetic_field_0/\">\n",
    "<h1>Related: Visualization or simulation of a magnetic field around a neutron star with Yajie Yuan (CCA).</h1>\n",
    "</a>\n",
    "\n",
    "<h1>Related: hdf5 explorer widget -- create and modify volume models in hdf5 archives (CCN)</h1>\n",
    "\n",
    "<a href=\"https://aaronwatters.github.io/visualization_prototypes/player_piano/\">\n",
    "<h1>Not related: Musical double helix with Liz Lovero and Stephon Alexander (CCQ).</h1>\n",
    "</a>\n",
    "\n",
    "Among others.\n"
   ]
  },
  {
   "cell_type": "code",
   "execution_count": null,
   "metadata": {},
   "outputs": [],
   "source": []
  }
 ],
 "metadata": {
  "kernelspec": {
   "display_name": "Python 3",
   "language": "python",
   "name": "python3"
  },
  "language_info": {
   "codemirror_mode": {
    "name": "ipython",
    "version": 3
   },
   "file_extension": ".py",
   "mimetype": "text/x-python",
   "name": "python",
   "nbconvert_exporter": "python",
   "pygments_lexer": "ipython3",
   "version": "3.6.8"
  }
 },
 "nbformat": 4,
 "nbformat_minor": 4
}
