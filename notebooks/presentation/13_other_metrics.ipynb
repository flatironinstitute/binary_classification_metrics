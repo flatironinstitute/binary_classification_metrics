{
 "cells": [
  {
   "cell_type": "markdown",
   "metadata": {},
   "source": [
    "<img src=\"https://www.theprospectordaily.com/wp-content/uploads/2018/01/ChorusLine_01_WEB-900x600.jpg\" width=\"500\">\n",
    "\n",
    "# Some other possible rankings:\n",
    "\n",
    "## ATP = AveragePreference\n",
    "\n",
    "Average of (N - index) for indices of hits (normalized).\n",
    "\n",
    "## ALP = AverageLogPreference\n",
    "\n",
    "Average of log(N-index) for indices of hits (normalized).\n",
    "\n",
    "## ASP = AverageSquaredPreference\n",
    "\n",
    "Average of (N-index)**2 for indices of hits (normalized).\n",
    "\n",
    "## AEP = AverageExponentialPreference\n",
    "\n",
    "Average of exp(N-index) for indices of hits (normalized).\n",
    "\n",
    "## RLP = ReversedLogPreference\n",
    "\n",
    "Average of log(N)-log(index) for indices of hits (normalized).\n",
    "\n",
    "### And there are many more possibilities..."
   ]
  },
  {
   "cell_type": "code",
   "execution_count": null,
   "metadata": {},
   "outputs": [],
   "source": [
    "import styling\n",
    "from binary_classification_metrics import c_graphics\n",
    "R = c_graphics.RankOfRankingsViz()\n",
    "R.show()"
   ]
  },
  {
   "cell_type": "code",
   "execution_count": null,
   "metadata": {},
   "outputs": [],
   "source": [
    "P = R.perturb(2)\n",
    "P.show()"
   ]
  }
 ],
 "metadata": {
  "kernelspec": {
   "display_name": "Python 3",
   "language": "python",
   "name": "python3"
  },
  "language_info": {
   "codemirror_mode": {
    "name": "ipython",
    "version": 3
   },
   "file_extension": ".py",
   "mimetype": "text/x-python",
   "name": "python",
   "nbconvert_exporter": "python",
   "pygments_lexer": "ipython3",
   "version": "3.6.8"
  }
 },
 "nbformat": 4,
 "nbformat_minor": 4
}
