{
 "cells": [
  {
   "cell_type": "code",
   "execution_count": 1,
   "metadata": {},
   "outputs": [
    {
     "data": {
      "text/html": [
       "\n",
       "<style>\n",
       "\n",
       ".container { width:100% !important; }\n",
       "\n",
       ".hit {\n",
       "        border-style: dotted;\n",
       "        border-width: 20px;\n",
       "        border-color: #ddd;\n",
       "        }\n",
       ".miss {\n",
       "        border-style: solid;\n",
       "        border-width: 20px;\n",
       "        border-color: black;\n",
       "        }\n",
       ".outside {\n",
       "        border-style: solid;\n",
       "        border-width: 10px;\n",
       "        border-color: #ddf;\n",
       "        }\n",
       "</style>\"\n"
      ],
      "text/plain": [
       "<IPython.core.display.HTML object>"
      ]
     },
     "metadata": {},
     "output_type": "display_data"
    }
   ],
   "source": [
    "from jp_doodle import data_tables\n",
    "#data_tables.widen_notebook()\n",
    "import styling"
   ]
  },
  {
   "cell_type": "raw",
   "metadata": {},
   "source": [
    "%%html\n",
    "<style>\n",
    ".hit {\n",
    "        border-style: solid;\n",
    "        border-width: 10px;\n",
    "        border-color: red;\n",
    "        }\n",
    "    .miss {\n",
    "        border-style: solid;\n",
    "        border-width: 10px;\n",
    "        border-color: blue;\n",
    "        }\n",
    "    .outside {\n",
    "        border-style: solid;\n",
    "        border-width: 10px;\n",
    "        border-color: green;\n",
    "        }\n",
    "        </style>"
   ]
  },
  {
   "cell_type": "code",
   "execution_count": null,
   "metadata": {},
   "outputs": [],
   "source": []
  },
  {
   "cell_type": "code",
   "execution_count": null,
   "metadata": {},
   "outputs": [],
   "source": []
  },
  {
   "cell_type": "markdown",
   "metadata": {},
   "source": [
    "<img src=\"https://pbs.twimg.com/media/EWOqUpFX0AcDh_X.jpg\">\n",
    "\n",
    "# Binary classification ranking: definition\n",
    "\n",
    "## In binary classification you have a universe of objects U, like \"images on websites\"\n",
    "\n",
    "<style type=\"text/css\">\n",
    "    .tt th { background-color:white; color: black; width:50%; padding:15px;border:10px solid black; }\n",
    "    .tt td { background-color:black; color: white; width:50%; padding:15px;border:10px solid white; }\n",
    "</style>\n",
    "\n",
    "<div class=\"outside\">\n",
    "<table class=\"outside\">\n",
    "    <tr>\n",
    "        <td>\n",
    "            <!-- giraffe -->\n",
    "            <img src=\"https://a-z-animals.com/media/2021/01/mammals-400x300.jpg\" width=\"100\">\n",
    "        </td>\n",
    "        <th>\n",
    "            <!-- lions -->\n",
    "            <img src=\"https://cosmosmagazine.com/wp-content/uploads/2019/12/GettyImages-691120979-1440x1079.jpg\" width=\"100\">\n",
    "        </th>\n",
    "        <td>\n",
    "            <!-- penguins -->\n",
    "            <div class=\"hit\">\n",
    "                <img src=\"https://www.vpr.org/sites/vpr/files/styles/medium/public/202001/emperor-penguins-istock-Mario_Hoppmann.png\" width=\"100\">\n",
    "            </div>\n",
    "        </td>\n",
    "    </tr>\n",
    "</table>\n",
    "    </div>\n",
    "\n",
    "<span>\n",
    "    <span width=\"110\">\n",
    "        <div class=\"hit\"><img src=\"https://a-z-animals.com/media/2021/01/mammals-400x300.jpg\" width=\"100\"></div>\n",
    "    </span>\n",
    "    <span width=\"110\">\n",
    "        <img src=\"https://cosmosmagazine.com/wp-content/uploads/2019/12/GettyImages-691120979-1440x1079.jpg\" width=\"100\">\n",
    "    </span>\n",
    "    <span width=\"110\">\n",
    "        <img src=\"https://www.vpr.org/sites/vpr/files/styles/medium/public/202001/emperor-penguins-istock-Mario_Hoppmann.png\" width=\"100\">\n",
    "    </span>\n",
    "    <span width=\"110\">\n",
    "        <img src=\"https://a-z-animals.com/media/2021/01/mammals-400x300.jpg\" width=\"100\">\n",
    "    </span>\n",
    "    <span width=\"110\">\n",
    "        <img src=\"https://a-z-animals.com/media/2021/01/mammals-400x300.jpg\" width=\"100\">\n",
    "    </span>\n",
    "    <span width=\"110\">\n",
    "        <img src=\"https://a-z-animals.com/media/2021/01/mammals-400x300.jpg\" width=\"100\">\n",
    "    </span>\n",
    "    <span width=\"110\">\n",
    "        <img src=\"https://a-z-animals.com/media/2021/01/mammals-400x300.jpg\" width=\"100\">\n",
    "    </span>\n",
    "</span>\n",
    "\n",
    "<div class=\"outside\">\n",
    "    <div class=\"hit\">This is a hit</div>\n",
    "    <div class=\"miss\">This is a miss</div>\n",
    "</div>\n",
    "    \n",
    "\n",
    "## And a query Q, like \"images that feature cats\"\n",
    "\n",
    "## A binary classification returns an ordering L of objects from U.\n",
    "\n",
    "## A classification is good if it orders the objects that satisfy Q close to the front of the ordering."
   ]
  },
  {
   "cell_type": "code",
   "execution_count": null,
   "metadata": {},
   "outputs": [],
   "source": []
  }
 ],
 "metadata": {
  "kernelspec": {
   "display_name": "Python 3",
   "language": "python",
   "name": "python3"
  },
  "language_info": {
   "codemirror_mode": {
    "name": "ipython",
    "version": 3
   },
   "file_extension": ".py",
   "mimetype": "text/x-python",
   "name": "python",
   "nbconvert_exporter": "python",
   "pygments_lexer": "ipython3",
   "version": "3.6.8"
  }
 },
 "nbformat": 4,
 "nbformat_minor": 4
}
