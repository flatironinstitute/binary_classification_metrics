{
 "cells": [
  {
   "cell_type": "markdown",
   "metadata": {},
   "source": [
    "<img src=\"https://speakingofresearch.files.wordpress.com/2018/04/mouse-cv.jpg\" width=\"300\">\n",
    "\n",
    "\n",
    "# Use case: Find a drug candidate for further testing.\n",
    "\n",
    "## Goal: Find a drug cost effectively.\n",
    "\n",
    "## Imperative: We want to find a drug that works but we don't want to try too many -- it's expensive!\n",
    "\n",
    "## Problem: We can't tell what is a drug candidate by just looking at it.\n",
    "\n",
    "### So we don't use images, we use 0 for miss and 1 for hit.\n",
    "\n",
    "# Also: if something is \"not known to be a drug candidate\" it could be because it hasn't been tested yet.\n",
    "\n",
    "### So we can't really trust the \"misses\" -- 0.\n"
   ]
  },
  {
   "cell_type": "code",
   "execution_count": 1,
   "metadata": {},
   "outputs": [
    {
     "data": {
      "text/html": [
       "\n",
       "<style>\n",
       "\n",
       ".container { width:100% !important; }\n",
       "\n",
       ".hit {\n",
       "        border-style: dotted;\n",
       "        border-width: 20px;\n",
       "        border-color: #ddd;\n",
       "        color: black;\n",
       "        background-color: white;\n",
       "        }\n",
       ".miss {\n",
       "        border-style: solid;\n",
       "        border-width: 20px;\n",
       "        border-color: black;\n",
       "        color: pink;\n",
       "        background-color: black;\n",
       "        }\n",
       ".outside {\n",
       "        border-style: solid;\n",
       "        border-width: 10px;\n",
       "        border-color: #ddf;\n",
       "        }\n",
       "</style>\n"
      ],
      "text/plain": [
       "<IPython.core.display.HTML object>"
      ]
     },
     "metadata": {},
     "output_type": "display_data"
    },
    {
     "data": {
      "text/html": [
       "\n",
       "<div class=\"outside\">\n",
       "<table class=\"outside\">\n",
       "    <tr>\n",
       "    \n",
       "<td><div class=\"miss\"> 0 </div></td>\n",
       "\n",
       "<td><div class=\"hit\"> 1 </div></td>\n",
       "\n",
       "<td><div class=\"miss\"> 0 </div></td>\n",
       "\n",
       "<td><div class=\"hit\"> 1 </div></td>\n",
       "\n",
       "<td><div class=\"miss\"> 0 </div></td>\n",
       "\n",
       "<td><div class=\"hit\"> 1 </div></td>\n",
       "\n",
       "<td><div class=\"miss\"> 0 </div></td>\n",
       "\n",
       "<td><div class=\"miss\"> 0 </div></td>\n",
       "\n",
       "<td><div class=\"miss\"> 0 </div></td>\n",
       "\n",
       "<td><div class=\"miss\"> 0 </div></td>\n",
       "\n",
       "<td><div class=\"miss\"> 0 </div></td>\n",
       "\n",
       "<td><div class=\"miss\"> 0 </div></td>\n",
       "\n",
       "<td><div class=\"hit\"> 1 </div></td>\n",
       "\n",
       "<td><div class=\"miss\"> 0 </div></td>\n",
       "\n",
       "<td><div class=\"miss\"> 0 </div></td>\n",
       "\n",
       "<td><div class=\"hit\"> 1 </div></td>\n",
       "\n",
       "<td><div class=\"miss\"> 0 </div></td>\n",
       "\n",
       "<td><div class=\"miss\"> 0 </div></td>\n",
       "\n",
       "<td><div class=\"miss\"> 0 </div></td>\n",
       "\n",
       "<td><div class=\"hit\"> 1 </div></td>\n",
       "\n",
       "<td><div class=\"miss\"> 0 </div></td>\n",
       "\n",
       "<td><div class=\"miss\"> 0 </div></td>\n",
       "\n",
       "<td><div class=\"hit\"> 1 </div></td>\n",
       "\n",
       "    </tr>\n",
       "</table>\n",
       "</div>\n"
      ],
      "text/plain": [
       "<IPython.core.display.HTML object>"
      ]
     },
     "metadata": {},
     "output_type": "display_data"
    },
    {
     "data": {
      "text/html": [
       "\n",
       "<div class=\"outside\">\n",
       "<table class=\"outside\">\n",
       "    <tr>\n",
       "    \n",
       "<td><div class=\"hit\"> 1 </div></td>\n",
       "\n",
       "<td><div class=\"miss\"> 0 </div></td>\n",
       "\n",
       "<td><div class=\"hit\"> 1 </div></td>\n",
       "\n",
       "<td><div class=\"miss\"> 0 </div></td>\n",
       "\n",
       "<td><div class=\"hit\"> 1 </div></td>\n",
       "\n",
       "<td><div class=\"miss\"> 0 </div></td>\n",
       "\n",
       "<td><div class=\"miss\"> 0 </div></td>\n",
       "\n",
       "<td><div class=\"miss\"> 0 </div></td>\n",
       "\n",
       "<td><div class=\"miss\"> 0 </div></td>\n",
       "\n",
       "<td><div class=\"miss\"> 0 </div></td>\n",
       "\n",
       "<td><div class=\"miss\"> 0 </div></td>\n",
       "\n",
       "<td><div class=\"hit\"> 1 </div></td>\n",
       "\n",
       "<td><div class=\"miss\"> 0 </div></td>\n",
       "\n",
       "<td><div class=\"miss\"> 0 </div></td>\n",
       "\n",
       "<td><div class=\"hit\"> 1 </div></td>\n",
       "\n",
       "<td><div class=\"miss\"> 0 </div></td>\n",
       "\n",
       "<td><div class=\"miss\"> 0 </div></td>\n",
       "\n",
       "<td><div class=\"miss\"> 0 </div></td>\n",
       "\n",
       "<td><div class=\"hit\"> 1 </div></td>\n",
       "\n",
       "<td><div class=\"miss\"> 0 </div></td>\n",
       "\n",
       "<td><div class=\"miss\"> 0 </div></td>\n",
       "\n",
       "<td><div class=\"miss\"> 0 </div></td>\n",
       "\n",
       "<td><div class=\"hit\"> 1 </div></td>\n",
       "\n",
       "    </tr>\n",
       "</table>\n",
       "</div>\n"
      ],
      "text/plain": [
       "<IPython.core.display.HTML object>"
      ]
     },
     "metadata": {},
     "output_type": "display_data"
    }
   ],
   "source": [
    "import styling as sty\n",
    "sty.cls(\"01010100000010010001001\")\n",
    "sty.cls(\"10101000000100100010001\")"
   ]
  },
  {
   "cell_type": "markdown",
   "metadata": {},
   "source": [
    "## Those classifications are probably about the same -- the leading 0 might even be a \"unknown\" drug candidate not in the gold standard.\n",
    "\n",
    "## But this one is definitely bad: You have to do too many experiments to cover many of the hits:"
   ]
  },
  {
   "cell_type": "code",
   "execution_count": 2,
   "metadata": {},
   "outputs": [
    {
     "data": {
      "text/html": [
       "\n",
       "<div class=\"outside\">\n",
       "<table class=\"outside\">\n",
       "    <tr>\n",
       "    \n",
       "<td><div class=\"miss\"> 0 </div></td>\n",
       "\n",
       "<td><div class=\"miss\"> 0 </div></td>\n",
       "\n",
       "<td><div class=\"miss\"> 0 </div></td>\n",
       "\n",
       "<td><div class=\"miss\"> 0 </div></td>\n",
       "\n",
       "<td><div class=\"miss\"> 0 </div></td>\n",
       "\n",
       "<td><div class=\"hit\"> 1 </div></td>\n",
       "\n",
       "<td><div class=\"hit\"> 1 </div></td>\n",
       "\n",
       "<td><div class=\"hit\"> 1 </div></td>\n",
       "\n",
       "<td><div class=\"hit\"> 1 </div></td>\n",
       "\n",
       "<td><div class=\"hit\"> 1 </div></td>\n",
       "\n",
       "<td><div class=\"hit\"> 1 </div></td>\n",
       "\n",
       "<td><div class=\"hit\"> 1 </div></td>\n",
       "\n",
       "<td><div class=\"miss\"> 0 </div></td>\n",
       "\n",
       "<td><div class=\"miss\"> 0 </div></td>\n",
       "\n",
       "<td><div class=\"miss\"> 0 </div></td>\n",
       "\n",
       "<td><div class=\"miss\"> 0 </div></td>\n",
       "\n",
       "<td><div class=\"miss\"> 0 </div></td>\n",
       "\n",
       "<td><div class=\"miss\"> 0 </div></td>\n",
       "\n",
       "<td><div class=\"miss\"> 0 </div></td>\n",
       "\n",
       "<td><div class=\"miss\"> 0 </div></td>\n",
       "\n",
       "<td><div class=\"miss\"> 0 </div></td>\n",
       "\n",
       "<td><div class=\"miss\"> 0 </div></td>\n",
       "\n",
       "<td><div class=\"miss\"> 0 </div></td>\n",
       "\n",
       "    </tr>\n",
       "</table>\n",
       "</div>\n"
      ],
      "text/plain": [
       "<IPython.core.display.HTML object>"
      ]
     },
     "metadata": {},
     "output_type": "display_data"
    }
   ],
   "source": [
    "sty.cls(\"00000111111100000000000\")"
   ]
  },
  {
   "cell_type": "markdown",
   "metadata": {},
   "source": [
    "# *To recap:  You have to know what the goal is before you can say whether an ordering is \"good\" or \"bad\"*"
   ]
  },
  {
   "cell_type": "code",
   "execution_count": null,
   "metadata": {},
   "outputs": [],
   "source": []
  }
 ],
 "metadata": {
  "kernelspec": {
   "display_name": "Python 3",
   "language": "python",
   "name": "python3"
  },
  "language_info": {
   "codemirror_mode": {
    "name": "ipython",
    "version": 3
   },
   "file_extension": ".py",
   "mimetype": "text/x-python",
   "name": "python",
   "nbconvert_exporter": "python",
   "pygments_lexer": "ipython3",
   "version": "3.6.8"
  }
 },
 "nbformat": 4,
 "nbformat_minor": 4
}
