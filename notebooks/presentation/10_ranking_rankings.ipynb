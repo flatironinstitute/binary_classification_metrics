{
 "cells": [
  {
   "cell_type": "markdown",
   "metadata": {},
   "source": [
    "<img src=\"https://upload.wikimedia.org/wikipedia/commons/thumb/f/fc/Michelangelo_-_Cristo_Juiz.jpg/330px-Michelangelo_-_Cristo_Juiz.jpg\">\n"
   ]
  },
  {
   "cell_type": "markdown",
   "metadata": {},
   "source": [
    "# Introducing RankOfRankingsViz -- a Jupyter widget for exploring rankings of rankings"
   ]
  },
  {
   "cell_type": "code",
   "execution_count": null,
   "metadata": {},
   "outputs": [],
   "source": [
    "import styling\n",
    "from binary_classification_metrics import c_graphics\n",
    "R = c_graphics.RankOfRankingsViz()\n",
    "R.show()"
   ]
  },
  {
   "cell_type": "markdown",
   "metadata": {},
   "source": [
    "## Components\n",
    "\n",
    "- Range slider for selecting total number of elements and number (n) and number of hits (k).\n",
    "- Primary and secondary rankings for comparison.\n",
    "- Rank order array graphic for primary ranking -- classifications are columns, rankings are horizontal arrangment (high to low).\n",
    "- Scatter plot compares primary and secondary ranking for each classification.\n",
    "- Bottom rectangle represents the \"currently selected classification\".\n",
    "- Right hand curve plot illustrates the statistic calculations.\n",
    "\n",
    "## Interactions\n",
    "\n",
    "- Change n, k -- generates all possible classifications (or a random subset of size 3000).\n",
    "- Change primary or secondary statistic selection in dropdown.\n",
    "- Select current classification in rank array.\n",
    "- Select current classification in scatter plot.\n",
    "- Trace statistic calculations in curve plot.\n",
    "\n",
    "## Derive perturbation for currently selected classification to determine stability."
   ]
  },
  {
   "cell_type": "code",
   "execution_count": null,
   "metadata": {},
   "outputs": [],
   "source": [
    "P = R.perturb(2)\n",
    "P.show()"
   ]
  },
  {
   "cell_type": "markdown",
   "metadata": {},
   "source": [
    "# A classification statistic is more stabile if it generates a smaller range of values when you modify the classification by flipping some of the bits."
   ]
  },
  {
   "cell_type": "code",
   "execution_count": null,
   "metadata": {},
   "outputs": [],
   "source": []
  }
 ],
 "metadata": {
  "kernelspec": {
   "display_name": "Python 3",
   "language": "python",
   "name": "python3"
  },
  "language_info": {
   "codemirror_mode": {
    "name": "ipython",
    "version": 3
   },
   "file_extension": ".py",
   "mimetype": "text/x-python",
   "name": "python",
   "nbconvert_exporter": "python",
   "pygments_lexer": "ipython3",
   "version": "3.6.8"
  }
 },
 "nbformat": 4,
 "nbformat_minor": 4
}
