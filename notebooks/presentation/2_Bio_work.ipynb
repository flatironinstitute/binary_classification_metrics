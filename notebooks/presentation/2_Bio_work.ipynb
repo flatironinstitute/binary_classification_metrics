{
 "cells": [
  {
   "cell_type": "markdown",
   "metadata": {},
   "source": [
    "# What have I done recently relevant to systems biology?\n",
    "\n",
    "<img src=\"https://pranksanonymous.com/wp-content/uploads/2018/07/EmptyBox.jpg\">\n",
    "\n",
    "<h1>Not much... I did create an interactive visualization of gene expression for fruit fly larvi</h1>\n",
    "\n",
    "<img src=\"embryo.gif\">\n",
    "\n",
    "Does that count?\n",
    "\n",
    "## I did support existing packages, but that was not a major effort...\n",
    "\n",
    "<h1><em>\"But I can't do it alone!\"</em></h1>\n",
    "    \n",
    "<img src=\"https://i.pinimg.com/originals/dc/3f/a9/dc3fa95d5cee3416b9e14850daaac9ff.jpg\">\n",
    "    \n",
    "From the musical \"Chicago\".\n",
    "    \n",
    "# My frustration:\n",
    "\n",
    "### RESEARCHER: Could you help me with this...?\n",
    "    \n",
    "### ME: Okay... What do you think of this visualization?\n",
    "\n",
    "### RESEARCHER: Nice! Thanks! That's great! [Click]\n",
    "    \n",
    "### ME: Glad you like it!  I was thinking next... hello? hello?...\n",
    "    \n",
    "# Since I can't talk about recent work relevant to you, I'm going to talk about some half-baked stuff I put together in the last 6 days...\n",
    "\n",
    "# Along the way, at a minimum, I hope you will get insights into the use and advantages of special purpose Jupyter widgets."
   ]
  },
  {
   "cell_type": "code",
   "execution_count": null,
   "metadata": {},
   "outputs": [],
   "source": [
    "\n"
   ]
  }
 ],
 "metadata": {
  "kernelspec": {
   "display_name": "Python 3",
   "language": "python",
   "name": "python3"
  },
  "language_info": {
   "codemirror_mode": {
    "name": "ipython",
    "version": 3
   },
   "file_extension": ".py",
   "mimetype": "text/x-python",
   "name": "python",
   "nbconvert_exporter": "python",
   "pygments_lexer": "ipython3",
   "version": "3.6.8"
  }
 },
 "nbformat": 4,
 "nbformat_minor": 4
}
