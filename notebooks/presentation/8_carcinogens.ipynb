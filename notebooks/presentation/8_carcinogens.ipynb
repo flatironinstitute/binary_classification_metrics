{
 "cells": [
  {
   "cell_type": "code",
   "execution_count": 1,
   "metadata": {},
   "outputs": [
    {
     "data": {
      "text/html": [
       "\n",
       "<style>\n",
       "\n",
       ".container { width:100% !important; }\n",
       "\n",
       ".hit {\n",
       "        border-style: dotted;\n",
       "        border-width: 20px;\n",
       "        border-color: #ddd;\n",
       "        color: black;\n",
       "        background-color: white;\n",
       "        }\n",
       ".miss {\n",
       "        border-style: solid;\n",
       "        border-width: 20px;\n",
       "        border-color: black;\n",
       "        color: pink;\n",
       "        background-color: black;\n",
       "        }\n",
       ".outside {\n",
       "        border-style: solid;\n",
       "        border-width: 10px;\n",
       "        border-color: #ddf;\n",
       "        }\n",
       "</style>\n"
      ],
      "text/plain": [
       "<IPython.core.display.HTML object>"
      ]
     },
     "metadata": {},
     "output_type": "display_data"
    }
   ],
   "source": [
    "import styling as sty"
   ]
  },
  {
   "cell_type": "markdown",
   "metadata": {},
   "source": [
    "<img src=\"https://www.sirtex.com/media/168649/magneticresonanceimagingscan.jpg\">\n",
    "\n",
    "# Use case: Keep carcinogens out of the food supply.\n",
    "\n",
    "## Goal: Prevent disease.\n",
    "\n",
    "## Imperative: We don't want people eating bad chemicals\n",
    "\n",
    "## Problem: We can't tell what is a carcinogen by just looking at it.\n",
    "\n",
    "### So we don't use images, we use 0 for miss and 1 for hit.\n",
    "\n",
    "# Also: if something is \"not known to be a carcinogen\" it could be because it hasn't been tested yet.\n",
    "\n",
    "### So we can't really trust the \"misses\" -- 0.\n"
   ]
  },
  {
   "cell_type": "code",
   "execution_count": 2,
   "metadata": {},
   "outputs": [
    {
     "data": {
      "text/html": [
       "\n",
       "<div class=\"outside\">\n",
       "<table class=\"outside\">\n",
       "    <tr>\n",
       "    \n",
       "<td><div class=\"miss\"> 0 </div></td>\n",
       "\n",
       "<td><div class=\"hit\"> 1 </div></td>\n",
       "\n",
       "<td><div class=\"hit\"> 1 </div></td>\n",
       "\n",
       "<td><div class=\"miss\"> 0 </div></td>\n",
       "\n",
       "<td><div class=\"hit\"> 1 </div></td>\n",
       "\n",
       "<td><div class=\"miss\"> 0 </div></td>\n",
       "\n",
       "<td><div class=\"hit\"> 1 </div></td>\n",
       "\n",
       "<td><div class=\"hit\"> 1 </div></td>\n",
       "\n",
       "<td><div class=\"miss\"> 0 </div></td>\n",
       "\n",
       "<td><div class=\"miss\"> 0 </div></td>\n",
       "\n",
       "<td><div class=\"miss\"> 0 </div></td>\n",
       "\n",
       "<td><div class=\"miss\"> 0 </div></td>\n",
       "\n",
       "<td><div class=\"miss\"> 0 </div></td>\n",
       "\n",
       "<td><div class=\"miss\"> 0 </div></td>\n",
       "\n",
       "<td><div class=\"miss\"> 0 </div></td>\n",
       "\n",
       "<td><div class=\"miss\"> 0 </div></td>\n",
       "\n",
       "<td><div class=\"miss\"> 0 </div></td>\n",
       "\n",
       "<td><div class=\"miss\"> 0 </div></td>\n",
       "\n",
       "<td><div class=\"miss\"> 0 </div></td>\n",
       "\n",
       "<td><div class=\"miss\"> 0 </div></td>\n",
       "\n",
       "<td><div class=\"miss\"> 0 </div></td>\n",
       "\n",
       "    </tr>\n",
       "</table>\n",
       "</div>\n"
      ],
      "text/plain": [
       "<IPython.core.display.HTML object>"
      ]
     },
     "metadata": {},
     "output_type": "display_data"
    },
    {
     "data": {
      "text/html": [
       "\n",
       "<div class=\"outside\">\n",
       "<table class=\"outside\">\n",
       "    <tr>\n",
       "    \n",
       "<td><div class=\"hit\"> 1 </div></td>\n",
       "\n",
       "<td><div class=\"hit\"> 1 </div></td>\n",
       "\n",
       "<td><div class=\"miss\"> 0 </div></td>\n",
       "\n",
       "<td><div class=\"miss\"> 0 </div></td>\n",
       "\n",
       "<td><div class=\"miss\"> 0 </div></td>\n",
       "\n",
       "<td><div class=\"hit\"> 1 </div></td>\n",
       "\n",
       "<td><div class=\"hit\"> 1 </div></td>\n",
       "\n",
       "<td><div class=\"hit\"> 1 </div></td>\n",
       "\n",
       "<td><div class=\"miss\"> 0 </div></td>\n",
       "\n",
       "<td><div class=\"miss\"> 0 </div></td>\n",
       "\n",
       "<td><div class=\"miss\"> 0 </div></td>\n",
       "\n",
       "<td><div class=\"miss\"> 0 </div></td>\n",
       "\n",
       "<td><div class=\"miss\"> 0 </div></td>\n",
       "\n",
       "<td><div class=\"miss\"> 0 </div></td>\n",
       "\n",
       "<td><div class=\"miss\"> 0 </div></td>\n",
       "\n",
       "<td><div class=\"miss\"> 0 </div></td>\n",
       "\n",
       "<td><div class=\"miss\"> 0 </div></td>\n",
       "\n",
       "<td><div class=\"miss\"> 0 </div></td>\n",
       "\n",
       "<td><div class=\"miss\"> 0 </div></td>\n",
       "\n",
       "<td><div class=\"miss\"> 0 </div></td>\n",
       "\n",
       "<td><div class=\"miss\"> 0 </div></td>\n",
       "\n",
       "    </tr>\n",
       "</table>\n",
       "</div>\n"
      ],
      "text/plain": [
       "<IPython.core.display.HTML object>"
      ]
     },
     "metadata": {},
     "output_type": "display_data"
    }
   ],
   "source": [
    "sty.cls(\"011010110000000000000\")\n",
    "sty.cls(\"110001110000000000000\")"
   ]
  },
  {
   "cell_type": "markdown",
   "metadata": {},
   "source": [
    "## Those two classifications are about the same (who cares about the miss locations at the front)\n",
    "\n",
    "## But this one is even better:"
   ]
  },
  {
   "cell_type": "code",
   "execution_count": 3,
   "metadata": {},
   "outputs": [
    {
     "data": {
      "text/html": [
       "\n",
       "<div class=\"outside\">\n",
       "<table class=\"outside\">\n",
       "    <tr>\n",
       "    \n",
       "<td><div class=\"miss\"> 0 </div></td>\n",
       "\n",
       "<td><div class=\"miss\"> 0 </div></td>\n",
       "\n",
       "<td><div class=\"hit\"> 1 </div></td>\n",
       "\n",
       "<td><div class=\"hit\"> 1 </div></td>\n",
       "\n",
       "<td><div class=\"hit\"> 1 </div></td>\n",
       "\n",
       "<td><div class=\"hit\"> 1 </div></td>\n",
       "\n",
       "<td><div class=\"hit\"> 1 </div></td>\n",
       "\n",
       "<td><div class=\"miss\"> 0 </div></td>\n",
       "\n",
       "<td><div class=\"miss\"> 0 </div></td>\n",
       "\n",
       "<td><div class=\"miss\"> 0 </div></td>\n",
       "\n",
       "<td><div class=\"miss\"> 0 </div></td>\n",
       "\n",
       "<td><div class=\"miss\"> 0 </div></td>\n",
       "\n",
       "<td><div class=\"miss\"> 0 </div></td>\n",
       "\n",
       "<td><div class=\"miss\"> 0 </div></td>\n",
       "\n",
       "<td><div class=\"miss\"> 0 </div></td>\n",
       "\n",
       "<td><div class=\"miss\"> 0 </div></td>\n",
       "\n",
       "<td><div class=\"miss\"> 0 </div></td>\n",
       "\n",
       "<td><div class=\"miss\"> 0 </div></td>\n",
       "\n",
       "<td><div class=\"miss\"> 0 </div></td>\n",
       "\n",
       "<td><div class=\"miss\"> 0 </div></td>\n",
       "\n",
       "<td><div class=\"miss\"> 0 </div></td>\n",
       "\n",
       "    </tr>\n",
       "</table>\n",
       "</div>\n"
      ],
      "text/plain": [
       "<IPython.core.display.HTML object>"
      ]
     },
     "metadata": {},
     "output_type": "display_data"
    }
   ],
   "source": [
    "sty.cls(\"001111100000000000000\")"
   ]
  },
  {
   "cell_type": "markdown",
   "metadata": {},
   "source": [
    "## And this one is worse than the others because we don't want hits at the end!"
   ]
  },
  {
   "cell_type": "code",
   "execution_count": 4,
   "metadata": {},
   "outputs": [
    {
     "data": {
      "text/html": [
       "\n",
       "<div class=\"outside\">\n",
       "<table class=\"outside\">\n",
       "    <tr>\n",
       "    \n",
       "<td><div class=\"hit\"> 1 </div></td>\n",
       "\n",
       "<td><div class=\"hit\"> 1 </div></td>\n",
       "\n",
       "<td><div class=\"hit\"> 1 </div></td>\n",
       "\n",
       "<td><div class=\"miss\"> 0 </div></td>\n",
       "\n",
       "<td><div class=\"miss\"> 0 </div></td>\n",
       "\n",
       "<td><div class=\"miss\"> 0 </div></td>\n",
       "\n",
       "<td><div class=\"miss\"> 0 </div></td>\n",
       "\n",
       "<td><div class=\"miss\"> 0 </div></td>\n",
       "\n",
       "<td><div class=\"miss\"> 0 </div></td>\n",
       "\n",
       "<td><div class=\"miss\"> 0 </div></td>\n",
       "\n",
       "<td><div class=\"miss\"> 0 </div></td>\n",
       "\n",
       "<td><div class=\"miss\"> 0 </div></td>\n",
       "\n",
       "<td><div class=\"miss\"> 0 </div></td>\n",
       "\n",
       "<td><div class=\"miss\"> 0 </div></td>\n",
       "\n",
       "<td><div class=\"miss\"> 0 </div></td>\n",
       "\n",
       "<td><div class=\"miss\"> 0 </div></td>\n",
       "\n",
       "<td><div class=\"miss\"> 0 </div></td>\n",
       "\n",
       "<td><div class=\"miss\"> 0 </div></td>\n",
       "\n",
       "<td><div class=\"miss\"> 0 </div></td>\n",
       "\n",
       "<td><div class=\"hit\"> 1 </div></td>\n",
       "\n",
       "<td><div class=\"hit\"> 1 </div></td>\n",
       "\n",
       "    </tr>\n",
       "</table>\n",
       "</div>\n"
      ],
      "text/plain": [
       "<IPython.core.display.HTML object>"
      ]
     },
     "metadata": {},
     "output_type": "display_data"
    }
   ],
   "source": [
    "sty.cls(\"111000000000000000011\")"
   ]
  },
  {
   "cell_type": "code",
   "execution_count": null,
   "metadata": {},
   "outputs": [],
   "source": []
  }
 ],
 "metadata": {
  "kernelspec": {
   "display_name": "Python 3",
   "language": "python",
   "name": "python3"
  },
  "language_info": {
   "codemirror_mode": {
    "name": "ipython",
    "version": 3
   },
   "file_extension": ".py",
   "mimetype": "text/x-python",
   "name": "python",
   "nbconvert_exporter": "python",
   "pygments_lexer": "ipython3",
   "version": "3.6.8"
  }
 },
 "nbformat": 4,
 "nbformat_minor": 4
}
