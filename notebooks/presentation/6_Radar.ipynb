{
 "cells": [
  {
   "cell_type": "markdown",
   "metadata": {},
   "source": [
    "<img src=\"https://encrypted-tbn0.gstatic.com/images?q=tbn:ANd9GcS-pWYv-U6R3bv-DyKSUZNPgGLsXf_1sY3w7Q&usqp=CAU\">"
   ]
  },
  {
   "cell_type": "code",
   "execution_count": 1,
   "metadata": {},
   "outputs": [
    {
     "data": {
      "text/html": [
       "\n",
       "<style>\n",
       "\n",
       ".container { width:100% !important; }\n",
       "\n",
       ".hit {\n",
       "        border-style: dotted;\n",
       "        border-width: 20px;\n",
       "        border-color: #ddd;\n",
       "        }\n",
       ".miss {\n",
       "        border-style: solid;\n",
       "        border-width: 20px;\n",
       "        border-color: black;\n",
       "        }\n",
       ".outside {\n",
       "        border-style: solid;\n",
       "        border-width: 10px;\n",
       "        border-color: #ddf;\n",
       "        }\n",
       "</style>\n"
      ],
      "text/plain": [
       "<IPython.core.display.HTML object>"
      ]
     },
     "metadata": {},
     "output_type": "display_data"
    }
   ],
   "source": [
    "import styling"
   ]
  },
  {
   "cell_type": "markdown",
   "metadata": {},
   "source": [
    "# Use case: Detect enemy aircraft\n",
    "\n",
    "# Goal: Save the children of London\n",
    "\n",
    "# Imperative: We don't want any bad guys to get though undetected\n",
    "\n",
    "\n",
    "\n",
    "<div class=\"outside\">\n",
    "<table class=\"outside\">\n",
    "    <tr>\n",
    "        <td>\n",
    "            <!-- bomber 1 -->\n",
    "            <div class=\"hit\">\n",
    "                <img src=\"https://cdn.britannica.com/70/76170-050-BE9EEB78/Focke-Wulf-Fw-190-German-World-War-II.jpg\" width=\"100\">\n",
    "            </div>\n",
    "        </td>\n",
    "        <td>\n",
    "            <!-- bomber 3 -->\n",
    "            <div class=\"hit\">\n",
    "                <img src=\"https://upload.wikimedia.org/wikipedia/commons/2/2f/Bundesarchiv_Bild_146-1995-042-37%2C_Schwerer_Bomber_Messerschmitt_Me_264_V1.jpg\" width=\"100\">\n",
    "            </div>\n",
    "        </td>\n",
    "        <td>\n",
    "            <!-- geese -->\n",
    "            <div class=\"miss\">\n",
    "                <img src=\"https://stmedia.stimg.co/ows_144371871436862.jpg?fit=crop&crop=faces\" width=\"100\">\n",
    "            </div>\n",
    "        </td>\n",
    "        <td>\n",
    "            <!-- balloons -->\n",
    "            <div class=\"miss\">\n",
    "                <img src=\"https://positivelyarsenal.files.wordpress.com/2016/09/99rb.jpg\" width=\"100\">\n",
    "            </div>\n",
    "        </td>\n",
    "        <td>\n",
    "            <!-- clouds -->\n",
    "            <div class=\"miss\">\n",
    "                <img src=\"https://image.sciencenordic.com/1382965.jpg?imageId=1382965&panow=0&panoh=0&panox=0&panoy=0&heightw=0&heighth=0&heightx=0&heighty=0&width=1200&height=630\" width=\"100\">\n",
    "            </div>\n",
    "        </td>\n",
    "        <td>\n",
    "            <!-- bats -->\n",
    "            <div class=\"miss\">\n",
    "                <img src=\"http://2.bp.blogspot.com/-77IcHNi7jWw/UQvnhdLzLVI/AAAAAAAAbDo/fjUQjBkBhqU/s1600/article-2271706-17442F19000005DC-575_964x642.jpg\" width=\"100\">\n",
    "            </div>\n",
    "        </td>\n",
    "        <td>\n",
    "            <!-- bomber 2 -->\n",
    "            <div class=\"hit\">\n",
    "                <img src=\"https://worldwarwings.com/wp-content/uploads/2018/08/262Diff.jpg\" width=\"100\">\n",
    "            </div>\n",
    "        </td>\n",
    "    </tr>\n",
    "</table>\n",
    "    </div>"
   ]
  },
  {
   "cell_type": "markdown",
   "metadata": {},
   "source": [
    "# That's bad! A bad guy got through!\n",
    "\n",
    "# This is better\n",
    "\n",
    "<div class=\"outside\">\n",
    "<table class=\"outside\">\n",
    "    <tr>\n",
    "        <td>\n",
    "            <!-- bats -->\n",
    "            <div class=\"miss\">\n",
    "                <img src=\"http://2.bp.blogspot.com/-77IcHNi7jWw/UQvnhdLzLVI/AAAAAAAAbDo/fjUQjBkBhqU/s1600/article-2271706-17442F19000005DC-575_964x642.jpg\" width=\"100\">\n",
    "            </div>\n",
    "        </td>\n",
    "        <td>\n",
    "            <!-- bomber 2 -->\n",
    "            <div class=\"hit\">\n",
    "                <img src=\"https://worldwarwings.com/wp-content/uploads/2018/08/262Diff.jpg\" width=\"100\">\n",
    "            </div>\n",
    "        </td>\n",
    "        <td>\n",
    "            <!-- bomber 1 -->\n",
    "            <div class=\"hit\">\n",
    "                <img src=\"https://cdn.britannica.com/70/76170-050-BE9EEB78/Focke-Wulf-Fw-190-German-World-War-II.jpg\" width=\"100\">\n",
    "            </div>\n",
    "        </td>\n",
    "        <td>\n",
    "            <!-- bomber 3 -->\n",
    "            <div class=\"hit\">\n",
    "                <img src=\"https://upload.wikimedia.org/wikipedia/commons/2/2f/Bundesarchiv_Bild_146-1995-042-37%2C_Schwerer_Bomber_Messerschmitt_Me_264_V1.jpg\" width=\"100\">\n",
    "            </div>\n",
    "        </td>\n",
    "        <td>\n",
    "            <!-- geese -->\n",
    "            <div class=\"miss\">\n",
    "                <img src=\"https://stmedia.stimg.co/ows_144371871436862.jpg?fit=crop&crop=faces\" width=\"100\">\n",
    "            </div>\n",
    "        </td>\n",
    "        <td>\n",
    "            <!-- balloons -->\n",
    "            <div class=\"miss\">\n",
    "                <img src=\"https://positivelyarsenal.files.wordpress.com/2016/09/99rb.jpg\" width=\"100\">\n",
    "            </div>\n",
    "        </td>\n",
    "        <td>\n",
    "            <!-- clouds -->\n",
    "            <div class=\"miss\">\n",
    "                <img src=\"https://image.sciencenordic.com/1382965.jpg?imageId=1382965&panow=0&panoh=0&panox=0&panoy=0&heightw=0&heighth=0&heightx=0&heighty=0&width=1200&height=630\" width=\"100\">\n",
    "            </div>\n",
    "        </td>\n",
    "    </tr>\n",
    "</table>\n",
    "    </div>"
   ]
  },
  {
   "cell_type": "markdown",
   "metadata": {},
   "source": [
    "# We blasted some poor bats out of the sky, but none of the bombers got to London"
   ]
  },
  {
   "cell_type": "code",
   "execution_count": null,
   "metadata": {},
   "outputs": [],
   "source": []
  }
 ],
 "metadata": {
  "kernelspec": {
   "display_name": "Python 3",
   "language": "python",
   "name": "python3"
  },
  "language_info": {
   "codemirror_mode": {
    "name": "ipython",
    "version": 3
   },
   "file_extension": ".py",
   "mimetype": "text/x-python",
   "name": "python",
   "nbconvert_exporter": "python",
   "pygments_lexer": "ipython3",
   "version": "3.6.8"
  }
 },
 "nbformat": 4,
 "nbformat_minor": 4
}
