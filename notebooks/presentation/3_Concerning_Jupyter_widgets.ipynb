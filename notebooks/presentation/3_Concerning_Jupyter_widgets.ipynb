{
 "cells": [
  {
   "cell_type": "markdown",
   "metadata": {},
   "source": [
    "<h1>Concerning Jupyter widgets</h1>\n",
    "\n",
    "<img src=\"https://images-na.ssl-images-amazon.com/images/I/41S87s8Ib7L._AC_SX466_.jpg\">\n",
    "\n",
    "<h2><i>Where to begin?... Ah yes, concerning widgets...</i></h2>\n",
    "\n",
    "## Jupyter widgets are great tools for exploratory science and scientific workflows.\n",
    "\n",
    "## Widgets are mini interactive graphical interfaces embedded in a Jupyter narrative notebook.\n",
    "\n",
    "## They can get data from the kernel and the filesystem and the network.\n",
    "\n",
    "## They can also put data back into the kernel state, the filesystem, the network.\n",
    "\n",
    "### The following widget interactively loads, views, modifies, and saves volume data in HDF5 files.\n",
    "\n",
    "Demonstrate h5 explorer interacting with files"
   ]
  },
  {
   "cell_type": "code",
   "execution_count": null,
   "metadata": {},
   "outputs": [],
   "source": [
    "from feedWebGL2 import h5explorer"
   ]
  },
  {
   "cell_type": "code",
   "execution_count": null,
   "metadata": {},
   "outputs": [],
   "source": [
    "# folder location input parameter\n",
    "E = h5explorer.Explorer(folder=\"/Users/awatters/repos/feedWebGL2/notebooks\")\n",
    "E"
   ]
  },
  {
   "cell_type": "markdown",
   "metadata": {},
   "source": [
    "# You can also extract data stored in widget data structures for downstream processing in a notebook"
   ]
  },
  {
   "cell_type": "code",
   "execution_count": null,
   "metadata": {},
   "outputs": [],
   "source": [
    "image = E.current_image\n",
    "image.shape, image.max(), image.min(), image.mean(), image.std()"
   ]
  },
  {
   "cell_type": "code",
   "execution_count": null,
   "metadata": {},
   "outputs": [],
   "source": []
  }
 ],
 "metadata": {
  "kernelspec": {
   "display_name": "Python 3",
   "language": "python",
   "name": "python3"
  },
  "language_info": {
   "codemirror_mode": {
    "name": "ipython",
    "version": 3
   },
   "file_extension": ".py",
   "mimetype": "text/x-python",
   "name": "python",
   "nbconvert_exporter": "python",
   "pygments_lexer": "ipython3",
   "version": "3.6.8"
  }
 },
 "nbformat": 4,
 "nbformat_minor": 4
}
