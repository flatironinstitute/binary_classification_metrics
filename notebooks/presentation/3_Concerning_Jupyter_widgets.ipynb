{
 "cells": [
  {
   "cell_type": "markdown",
   "metadata": {},
   "source": [
    "<h1>Concerning Jupyter widgets</h1>\n",
    "\n",
    "<img src=\"https://images-na.ssl-images-amazon.com/images/I/41S87s8Ib7L._AC_SX466_.jpg\">\n",
    "\n",
    "<h2><i>Where to begin?... Ah yes, concerning widgets...</i></h2>\n",
    "\n",
    "# Widgets are mini interactive graphical interfaces embedded in a Jupyter narrative notebook\n",
    "\n",
    "# They can get data from the kernel and the filesystem and the network:"
   ]
  },
  {
   "cell_type": "markdown",
   "metadata": {},
   "source": []
  }
 ],
 "metadata": {
  "kernelspec": {
   "display_name": "Python 3",
   "language": "python",
   "name": "python3"
  },
  "language_info": {
   "codemirror_mode": {
    "name": "ipython",
    "version": 3
   },
   "file_extension": ".py",
   "mimetype": "text/x-python",
   "name": "python",
   "nbconvert_exporter": "python",
   "pygments_lexer": "ipython3",
   "version": "3.6.8"
  }
 },
 "nbformat": 4,
 "nbformat_minor": 4
}
