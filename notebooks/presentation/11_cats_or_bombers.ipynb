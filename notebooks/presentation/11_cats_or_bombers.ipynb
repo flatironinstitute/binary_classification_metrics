{
 "cells": [
  {
   "cell_type": "markdown",
   "metadata": {},
   "source": [
    "<img src=\"https://i.dailymail.co.uk/i/pix/scaled/2013/10/14/article-0-18BCBF0400000578-490_636x382.jpg\" width=\"400\">\n",
    "\n",
    "# Cats or bombers:  AUPR versus AUROC\n",
    "\n",
    "### I claim:\n",
    "### AUPR is good for internet search because it cares a lot about the first few hits.\n",
    "### AUROC is better for \"radar\" because it cares about hits in the tail which AUPR ignores.\n",
    "### AUPR is not good for systems biology because there may be missing \"1\" in the gold standard.\n",
    "Let's experiment:"
   ]
  },
  {
   "cell_type": "code",
   "execution_count": null,
   "metadata": {},
   "outputs": [],
   "source": [
    "import styling\n",
    "from binary_classification_metrics import c_graphics\n",
    "R = c_graphics.RankOfRankingsViz()\n",
    "R.show()"
   ]
  },
  {
   "cell_type": "markdown",
   "metadata": {},
   "source": [
    "- Walk through the visualization components with small n.\n",
    "\n",
    "- Look at the scatter plot \"envelope\" with large n.\n",
    "\n",
    "- Questions?\n",
    "\n",
    "# Warning: Fiddling with this interface can be addicting and time-wasting!\n",
    "\n",
    "Especially when you urgently need to prepare a presentation!"
   ]
  },
  {
   "cell_type": "code",
   "execution_count": null,
   "metadata": {},
   "outputs": [],
   "source": []
  }
 ],
 "metadata": {
  "kernelspec": {
   "display_name": "Python 3",
   "language": "python",
   "name": "python3"
  },
  "language_info": {
   "codemirror_mode": {
    "name": "ipython",
    "version": 3
   },
   "file_extension": ".py",
   "mimetype": "text/x-python",
   "name": "python",
   "nbconvert_exporter": "python",
   "pygments_lexer": "ipython3",
   "version": "3.6.8"
  }
 },
 "nbformat": 4,
 "nbformat_minor": 4
}
