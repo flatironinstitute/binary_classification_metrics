{
 "cells": [
  {
   "cell_type": "markdown",
   "metadata": {},
   "source": [
    "<img src=\"https://i.dailymail.co.uk/i/pix/2014/08/05/1407262082593_wps_1_A_home_is_damaged_by_a_mu.jpg\" width=\"400\">\n",
    "\n",
    "# Lions versus antieaters: stability in the presence of errors\n",
    "\n",
    "# What happens if we flip a few of the bits?\n",
    "\n",
    "# First select a classification"
   ]
  },
  {
   "cell_type": "code",
   "execution_count": 2,
   "metadata": {},
   "outputs": [
    {
     "data": {
      "application/vnd.jupyter.widget-view+json": {
       "model_id": "a9b709c6779048079b759e106ed1b976",
       "version_major": 2,
       "version_minor": 0
      },
      "text/plain": [
       "VBox(children=(HTML(value='Selected: 1100000'), JSProxyWidget(status='deferring flush until render'), HBox(chi…"
      ]
     },
     "metadata": {},
     "output_type": "display_data"
    }
   ],
   "source": [
    "import styling\n",
    "from binary_classification_metrics import c_graphics\n",
    "R = c_graphics.RankOfRankingsViz()\n",
    "R.show()"
   ]
  },
  {
   "cell_type": "markdown",
   "metadata": {},
   "source": [
    "# Then look at what happens when you flip some bits"
   ]
  },
  {
   "cell_type": "code",
   "execution_count": 3,
   "metadata": {},
   "outputs": [
    {
     "name": "stdout",
     "output_type": "stream",
     "text": [
      "perturbation size 7 (7, 29)\n"
     ]
    },
    {
     "data": {
      "application/vnd.jupyter.widget-view+json": {
       "model_id": "82d053ea623e4c7f9389ce5f3a87fbcf",
       "version_major": 2,
       "version_minor": 0
      },
      "text/plain": [
       "VBox(children=(HTML(value='Selected: 1100000'), JSProxyWidget(status='deferring flush until render'), HBox(chi…"
      ]
     },
     "metadata": {},
     "output_type": "display_data"
    }
   ],
   "source": [
    "P = R.perturb(2)\n",
    "P.show()"
   ]
  },
  {
   "cell_type": "markdown",
   "metadata": {},
   "source": [
    "# When n and k are large enough AUROC is more stabile than AUPR\n",
    "\n",
    "# That means some of your gold standard can be wrong and the statistic might still mean something (if it's AUROC)"
   ]
  },
  {
   "cell_type": "code",
   "execution_count": null,
   "metadata": {},
   "outputs": [],
   "source": []
  }
 ],
 "metadata": {
  "kernelspec": {
   "display_name": "Python 3",
   "language": "python",
   "name": "python3"
  },
  "language_info": {
   "codemirror_mode": {
    "name": "ipython",
    "version": 3
   },
   "file_extension": ".py",
   "mimetype": "text/x-python",
   "name": "python",
   "nbconvert_exporter": "python",
   "pygments_lexer": "ipython3",
   "version": "3.6.8"
  }
 },
 "nbformat": 4,
 "nbformat_minor": 4
}
