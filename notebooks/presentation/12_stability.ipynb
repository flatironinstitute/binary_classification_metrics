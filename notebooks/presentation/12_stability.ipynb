{
 "cells": [
  {
   "cell_type": "markdown",
   "metadata": {},
   "source": [
    "<img src=\"https://i.dailymail.co.uk/i/pix/2014/08/05/1407262082593_wps_1_A_home_is_damaged_by_a_mu.jpg\" width=\"400\">\n",
    "\n",
    "# Lions versus antieaters: stability in the presence of errors\n",
    "\n",
    "# What happens if we flip a few of the bits?  Maybe the \"gold standard\" has missing information or errors!\n",
    "\n",
    "# First select a classification"
   ]
  },
  {
   "cell_type": "code",
   "execution_count": 1,
   "metadata": {},
   "outputs": [
    {
     "data": {
      "text/html": [
       "\n",
       "<style>\n",
       "\n",
       ".container { width:100% !important; }\n",
       "\n",
       ".hit {\n",
       "        border-style: dotted;\n",
       "        border-width: 20px;\n",
       "        border-color: #ddd;\n",
       "        color: black;\n",
       "        background-color: white;\n",
       "        }\n",
       ".miss {\n",
       "        border-style: solid;\n",
       "        border-width: 20px;\n",
       "        border-color: black;\n",
       "        color: pink;\n",
       "        background-color: black;\n",
       "        }\n",
       ".outside {\n",
       "        border-style: solid;\n",
       "        border-width: 10px;\n",
       "        border-color: #ddf;\n",
       "        }\n",
       "</style>\n"
      ],
      "text/plain": [
       "<IPython.core.display.HTML object>"
      ]
     },
     "metadata": {},
     "output_type": "display_data"
    },
    {
     "data": {
      "application/vnd.jupyter.widget-view+json": {
       "model_id": "8e9235171e454aebb412f64325a2d77a",
       "version_major": 2,
       "version_minor": 0
      },
      "text/plain": [
       "VBox(children=(HTML(value='Selected: 1100000'), JSProxyWidget(status='deferring flush until render'), HBox(chi…"
      ]
     },
     "metadata": {},
     "output_type": "display_data"
    }
   ],
   "source": [
    "import styling\n",
    "from binary_classification_metrics import c_graphics\n",
    "R = c_graphics.RankOfRankingsViz()\n",
    "R.show()"
   ]
  },
  {
   "cell_type": "markdown",
   "metadata": {},
   "source": [
    "# Then look at what happens when you flip some bits"
   ]
  },
  {
   "cell_type": "code",
   "execution_count": 2,
   "metadata": {},
   "outputs": [
    {
     "name": "stdout",
     "output_type": "stream",
     "text": [
      "perturbation size 19 (19, 20)\n"
     ]
    },
    {
     "data": {
      "application/vnd.jupyter.widget-view+json": {
       "model_id": "cc284504141a47078a2826a515dc8792",
       "version_major": 2,
       "version_minor": 0
      },
      "text/plain": [
       "VBox(children=(HTML(value='Selected: 1101100010100000000'), JSProxyWidget(status='deferring flush until render…"
      ]
     },
     "metadata": {},
     "output_type": "display_data"
    }
   ],
   "source": [
    "P = R.perturb(1)\n",
    "P.show()"
   ]
  },
  {
   "cell_type": "markdown",
   "metadata": {},
   "source": [
    "# When n and k are large enough AUROC is more stabile than AUPR\n",
    "\n",
    "# That means some of your gold standard can be wrong and the statistic might still mean something (if it's AUROC)"
   ]
  },
  {
   "cell_type": "code",
   "execution_count": 3,
   "metadata": {},
   "outputs": [
    {
     "name": "stdout",
     "output_type": "stream",
     "text": [
      "jittering 0101100010100000000\n",
      "perturbation size 19 (19, 96)\n"
     ]
    },
    {
     "data": {
      "application/vnd.jupyter.widget-view+json": {
       "model_id": "f80d5337dff343cbbbb4bf8ad195bb9a",
       "version_major": 2,
       "version_minor": 0
      },
      "text/plain": [
       "VBox(children=(HTML(value='Selected: 1011000101000000000'), JSProxyWidget(status='deferring flush until render…"
      ]
     },
     "metadata": {},
     "output_type": "display_data"
    }
   ],
   "source": [
    "J = R.jitter()\n",
    "J.show()"
   ]
  },
  {
   "cell_type": "code",
   "execution_count": null,
   "metadata": {},
   "outputs": [],
   "source": []
  }
 ],
 "metadata": {
  "kernelspec": {
   "display_name": "Python 3",
   "language": "python",
   "name": "python3"
  },
  "language_info": {
   "codemirror_mode": {
    "name": "ipython",
    "version": 3
   },
   "file_extension": ".py",
   "mimetype": "text/x-python",
   "name": "python",
   "nbconvert_exporter": "python",
   "pygments_lexer": "ipython3",
   "version": "3.6.8"
  }
 },
 "nbformat": 4,
 "nbformat_minor": 4
}
