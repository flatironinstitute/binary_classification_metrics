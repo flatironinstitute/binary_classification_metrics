{
 "cells": [
  {
   "cell_type": "markdown",
   "metadata": {},
   "source": [
    "# Ambiguity and Unknowns in rankings\n",
    "\n",
    "<h2>I want to be a lion tamer! I even have a hat!</h2>\n",
    "\n",
    "<img src=\"https://64.media.tumblr.com/tumblr_l6mtmgmhHL1qc9pwoo1_400.png\">\n",
    "\n",
    "<h2>Did you know that a lion looks like this?</h2>\n",
    "\n",
    "<img src=\"https://thumbs.gfycat.com/ExaltedMeaslyCirriped-small.gif\">\n",
    "\n",
    "## In the \"google\" and \"radar\" examples it's pretty clear what's a \"hit\" or a \"miss\"\n",
    "\n",
    "## That is not the case with classifying proteins, for example.\n",
    "\n",
    "## A lot of chemical properties have not been tested and are unknown.\n",
    "\n",
    "## Others have been shown \"statistically significant\" (or not) -- which means they might be wrong.\n",
    "\n",
    "# *The multilayer convolutional neural net classification algorithm might be seeing something the \"gold standard\" doesn't know about!*\n",
    "\n",
    "# Don't take individual \"hits\" and \"misses\" in the gold standard too seriously."
   ]
  },
  {
   "cell_type": "code",
   "execution_count": null,
   "metadata": {},
   "outputs": [],
   "source": []
  }
 ],
 "metadata": {
  "kernelspec": {
   "display_name": "Python 3",
   "language": "python",
   "name": "python3"
  },
  "language_info": {
   "codemirror_mode": {
    "name": "ipython",
    "version": 3
   },
   "file_extension": ".py",
   "mimetype": "text/x-python",
   "name": "python",
   "nbconvert_exporter": "python",
   "pygments_lexer": "ipython3",
   "version": "3.6.8"
  }
 },
 "nbformat": 4,
 "nbformat_minor": 4
}
